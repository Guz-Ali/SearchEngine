{
 "cells": [
  {
   "cell_type": "code",
   "execution_count": 1,
   "metadata": {},
   "outputs": [],
   "source": [
    "#First Create the test cases and goals as TDD is a good practice\n",
    "#Give the best fitting images according to the search keys\n",
    "#Find the tags of an image given the search keys.\n",
    "\n",
    "#We have pictures with alt text provided. Azure has a great API to create alt text\n",
    "#I used the Azure Computer Vision examples as my database but their API could be implemented directly.\n",
    "\n",
    "\n",
    "#Sample cases:\n",
    "#Image1: People waiting for train in subway.\n",
    "#Tags: train, platform, station, subway, people\n",
    "    "
   ]
  },
  {
   "cell_type": "code",
   "execution_count": 100,
   "metadata": {},
   "outputs": [],
   "source": [
    "import os\n",
    "import glob\n",
    "from PIL import Image\n",
    "import pickle as pk"
   ]
  },
  {
   "cell_type": "code",
   "execution_count": 127,
   "metadata": {},
   "outputs": [],
   "source": [
    "class SearchEngine:\n",
    "    def __init__(self, img_path, tag_path):\n",
    "        \n",
    "\n",
    "        self.images = [f for f in glob.glob(img_path+'*.png')]\n",
    "        with open(tag_path, \"rb\") as inp:\n",
    "            self.tags = pk.load(inp)\n",
    "\n",
    "    def print_tags(self):\n",
    "        print(self.tags)\n",
    "    \n",
    "    def search_text(self, key, op=\"and\", suppress_images=False):\n",
    "        \"\"\" Searches keys and displays images and displays image given the tagstext given the keys \n",
    "            args:\n",
    "                key: list of strings, searched keys\n",
    "                op: \"and\" or \"or\", indicates logical operation of keys\n",
    "                suppress_images: bool, True - do not display images, False - display images. Default False. \n",
    "                \n",
    "        \"\"\"\n",
    "        \n",
    "        found_img = set()\n",
    "        if op==\"or\":\n",
    "            for k in key:\n",
    "                for i in tags_simplified:\n",
    "                    if k in tags_simplified[i]:\n",
    "                        found_img.add(i)\n",
    "        else: #and\n",
    "            for i in tags_simplified:\n",
    "                if all(k in tags_simplified[i] for k in key):\n",
    "                    found_img.add(i)\n",
    "        \n",
    "        if not suppress_images:\n",
    "            self.open_image(found_img)\n",
    "        return found_img\n",
    "   \n",
    "    def open_image(self, images):                \n",
    "        for img in images:\n",
    "            im = Image.open(img)  \n",
    "            im.show() \n",
    "            \n",
    "    \n",
    "    \n",
    "#search_text(\"person\")"
   ]
  },
  {
   "cell_type": "code",
   "execution_count": 15,
   "metadata": {},
   "outputs": [],
   "source": [
    "#Azure API response\n",
    "tags = ['[ { \"name\": \"train\", \"confidence\": 0.9974923 }, { \"name\": \"platform\", \"confidence\": 0.9955776 }, { \"name\": \"station\", \"confidence\": 0.979665935 }, { \"name\": \"indoor\", \"confidence\": 0.9272351 }, { \"name\": \"subway\", \"confidence\": 0.83886826 }, { \"name\": \"clothing\", \"confidence\": 0.5561282 }, { \"name\": \"person\", \"confidence\": 0.505803 }, { \"name\": \"pulling\", \"confidence\": 0.431911618 } ]', \n",
    "        '[ { \"name\": \"person\", \"confidence\": 0.9945455 }, { \"name\": \"laptop\", \"confidence\": 0.9635144 }, { \"name\": \"computer\", \"confidence\": 0.9579097 }, { \"name\": \"clothing\", \"confidence\": 0.9370073 }, { \"name\": \"indoor\", \"confidence\": 0.9179773 }, { \"name\": \"furniture\", \"confidence\": 0.906451 }, { \"name\": \"table\", \"confidence\": 0.742828846 }, { \"name\": \"people\", \"confidence\": 0.720105648 }, { \"name\": \"chair\", \"confidence\": 0.6349643 }, { \"name\": \"woman\", \"confidence\": 0.527442455 } ]', \n",
    "        '[ { \"name\": \"skating\", \"confidence\": 0.999951363 }, { \"name\": \"snowboarding\", \"confidence\": 0.9893889 }, { \"name\": \"sports equipment\", \"confidence\": 0.9722208 }, { \"name\": \"person\", \"confidence\": 0.959769964 }, { \"name\": \"roller skating\", \"confidence\": 0.946092963 }, { \"name\": \"skiing\", \"confidence\": 0.92313683 }, { \"name\": \"man\", \"confidence\": 0.9193816 }, { \"name\": \"outdoor\", \"confidence\": 0.9109124 }, { \"name\": \"boardsport\", \"confidence\": 0.907244742 }, { \"name\": \"riding\", \"confidence\": 0.8984571 }, { \"name\": \"sport\", \"confidence\": 0.871290743 }, { \"name\": \"footwear\", \"confidence\": 0.862546742 }, { \"name\": \"snowboard\", \"confidence\": 0.8349905 }, { \"name\": \"skate\", \"confidence\": 0.801233232 }, { \"name\": \"skateboarder\", \"confidence\": 0.792592764 }, { \"name\": \"individual sports\", \"confidence\": 0.779822469 }, { \"name\": \"skateboarding equipment\", \"confidence\": 0.777853966 }, { \"name\": \"skateboard\", \"confidence\": 0.746669054 }, { \"name\": \"skateboarding\", \"confidence\": 0.7466688 }, { \"name\": \"ski\", \"confidence\": 0.6588002 }, { \"name\": \"jumping\", \"confidence\": 0.645534158 }, { \"name\": \"extreme sport\", \"confidence\": 0.5737016 }, { \"name\": \"kickflip\", \"confidence\": 0.501751363 }, { \"name\": \"male\", \"confidence\": 0.15158996 } ]', \n",
    "        '[ { \"name\": \"text\", \"confidence\": 0.9999137 }, { \"name\": \"grass\", \"confidence\": 0.999893069 }, { \"name\": \"outdoor\", \"confidence\": 0.9880197 }, { \"name\": \"bicycle\", \"confidence\": 0.9697462 }, { \"name\": \"bicycle wheel\", \"confidence\": 0.897627 }, { \"name\": \"sign\", \"confidence\": 0.8423048 }, { \"name\": \"bike\", \"confidence\": 0.7690854 }, { \"name\": \"wheel\", \"confidence\": 0.7583429 }, { \"name\": \"land vehicle\", \"confidence\": 0.6875147 }, { \"name\": \"vehicle\", \"confidence\": 0.575855851 } ]']"
   ]
  },
  {
   "cell_type": "code",
   "execution_count": 98,
   "metadata": {},
   "outputs": [],
   "source": [
    "tags_simplified = {\"subway-people-wait.png\":{'train':0.99, 'platform':0.99, 'station':0.98,  'subway': 0.83886826, 'clothing': 0.5561282, 'person': 0.505803, 'pulling': 0.43191161},\n",
    "                    \"person-skateboard.png\":{\"skating\": 0.999951363 ,\"snowboarding\": 0.9893889,\"sports equipment\": 0.9722208, \"person\": 0.959769964, \"roller skating\": 0.946092963,\"skiing\": 0.92313683,\"man\": 0.9193816, \"outdoor\": 0.9109124, \"boardsport\": 0.907244742, \"riding\": 0.8984571, \"sport\": 0.871290743 },\n",
    "                    'People-talkin-sitting.png': {'person': 0.9945455, 'laptop': 0.9635144, 'computer': 0.9579097, 'clothing': 0.9370073, 'indoor': 0.9179773, 'furniture': 0.906451, 'table': 0.742828846, 'people': 0.720105648, 'chair': 0.6349643, 'woman': 0.527442455},\n",
    "                    'bike-on-tree.png':{\"text\": 0.9999137,\"grass\": 0.999893069,\"outdoor\": 0.9880197,\"bicycle\": 0.9697462, \"bicycle wheel\": 0.897627,\"sign\": 0.8423048, \"bike\": 0.7690854, \"wheel\": 0.7583429, \"land vehicle\": 0.6875147, \"vehicle\": 0.575855851 }    \n",
    "                  }\n",
    "                  "
   ]
  },
  {
   "cell_type": "raw",
   "metadata": {},
   "source": [
    "with open(r\"tags.pk\", \"wb\") as out:\n",
    "    pk.dump(tags_simplified, out)\n",
    "   "
   ]
  },
  {
   "cell_type": "markdown",
   "metadata": {},
   "source": [
    "## Test Cases\n"
   ]
  },
  {
   "cell_type": "code",
   "execution_count": 129,
   "metadata": {},
   "outputs": [
    {
     "name": "stderr",
     "output_type": "stream",
     "text": [
      "...\n",
      "----------------------------------------------------------------------\n",
      "Ran 3 tests in 0.054s\n",
      "\n",
      "OK\n"
     ]
    }
   ],
   "source": [
    "import unittest\n",
    "  \n",
    "class EngineTests(unittest.TestCase):\n",
    "    engine = SearchEngine('./', \"tags.pk\")\n",
    "   \n",
    "    def test_and(self):\n",
    "        self.assertEqual(self.engine.search_text([\"person\",\"train\"], suppress_images=True), {\"subway-people-wait.png\"}, \"And search was not successful.\")\n",
    "        \n",
    "    def test_or(self):\n",
    "        self.assertEqual(self.engine.search_text([\"person\",\"train\"], \"or\", suppress_images=True), {'subway-people-wait.png', 'People-talkin-sitting.png', 'person-skateboard.png'}, \"OR search was not successful.\")\n",
    "    def test_one_word(self):\n",
    "        self.assertEqual(self.engine.search_text([\"bicycle\"], suppress_images=True), {\"bike-on-tree.png\"}, \"One keyword search was not successful.\")\n",
    "        \n",
    "\n",
    "if __name__ == '__main__':\n",
    "    unittest.main(argv=['first-arg-is-ignored'], exit=False)"
   ]
  },
  {
   "cell_type": "markdown",
   "metadata": {},
   "source": [
    "## Playground\n",
    "You can play with the search engine here."
   ]
  },
  {
   "cell_type": "code",
   "execution_count": null,
   "metadata": {},
   "outputs": [],
   "source": [
    "KEYS == [\"your keywords here\"]\n",
    "engine = SearchEngine('./', \"tags.pk\")\n",
    "engine.search_text(KEYS)"
   ]
  }
 ],
 "metadata": {
  "kernelspec": {
   "display_name": "Python 3",
   "language": "python",
   "name": "python3"
  },
  "language_info": {
   "codemirror_mode": {
    "name": "ipython",
    "version": 3
   },
   "file_extension": ".py",
   "mimetype": "text/x-python",
   "name": "python",
   "nbconvert_exporter": "python",
   "pygments_lexer": "ipython3",
   "version": "3.8.3"
  }
 },
 "nbformat": 4,
 "nbformat_minor": 4
}
